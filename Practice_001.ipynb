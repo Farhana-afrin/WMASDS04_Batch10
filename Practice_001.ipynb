{
  "cells": [
    {
      "cell_type": "markdown",
      "metadata": {
        "id": "view-in-github",
        "colab_type": "text"
      },
      "source": [
        "<a href=\"https://colab.research.google.com/github/Farhana-afrin/WMASDS04_Batch10/blob/main/Practice_001.ipynb\" target=\"_parent\"><img src=\"https://colab.research.google.com/assets/colab-badge.svg\" alt=\"Open In Colab\"/></a>"
      ]
    },
    {
      "cell_type": "code",
      "execution_count": null,
      "id": "ccb805c7",
      "metadata": {
        "id": "ccb805c7",
        "outputId": "83861c52-acfe-45bf-bfb2-1a55e66f4bd9"
      },
      "outputs": [
        {
          "name": "stdout",
          "output_type": "stream",
          "text": [
            "Hello World\n"
          ]
        }
      ],
      "source": [
        "print('Hello World')"
      ]
    },
    {
      "cell_type": "code",
      "execution_count": null,
      "id": "dbf1a26a",
      "metadata": {
        "id": "dbf1a26a"
      },
      "outputs": [],
      "source": [
        "a = '5.5'"
      ]
    },
    {
      "cell_type": "code",
      "execution_count": null,
      "id": "e9d2ecdd",
      "metadata": {
        "id": "e9d2ecdd",
        "outputId": "fd0f5a28-16a9-4721-ee73-ef2fb54c6ee3"
      },
      "outputs": [
        {
          "name": "stdout",
          "output_type": "stream",
          "text": [
            "5\n"
          ]
        }
      ],
      "source": [
        "print(a)"
      ]
    },
    {
      "cell_type": "code",
      "execution_count": null,
      "id": "70976bd2",
      "metadata": {
        "id": "70976bd2",
        "outputId": "df00e978-5fcb-433d-fbde-b68f85787352"
      },
      "outputs": [
        {
          "name": "stdout",
          "output_type": "stream",
          "text": [
            "a\n"
          ]
        }
      ],
      "source": [
        "print('a')"
      ]
    },
    {
      "cell_type": "code",
      "execution_count": null,
      "id": "dcba65b4",
      "metadata": {
        "id": "dcba65b4",
        "outputId": "a019c305-84e4-4236-d073-2e836e44cb1a"
      },
      "outputs": [
        {
          "data": {
            "text/plain": [
              "str"
            ]
          },
          "execution_count": 9,
          "metadata": {},
          "output_type": "execute_result"
        }
      ],
      "source": [
        "type(a)"
      ]
    },
    {
      "cell_type": "code",
      "execution_count": null,
      "id": "b86ca2df",
      "metadata": {
        "id": "b86ca2df"
      },
      "outputs": [],
      "source": [
        "name = 'sakib al hasan'"
      ]
    },
    {
      "cell_type": "code",
      "execution_count": null,
      "id": "d82934a5",
      "metadata": {
        "id": "d82934a5",
        "outputId": "8e78d124-6eff-4b63-d70c-bf0e2e5c3631"
      },
      "outputs": [
        {
          "name": "stdout",
          "output_type": "stream",
          "text": [
            "sakib al hasan\n"
          ]
        }
      ],
      "source": [
        "print(name)"
      ]
    },
    {
      "cell_type": "code",
      "execution_count": null,
      "id": "6d183648",
      "metadata": {
        "id": "6d183648",
        "outputId": "4d71d697-c627-4387-9fcd-e9135f80c1d2"
      },
      "outputs": [
        {
          "data": {
            "text/plain": [
              "str"
            ]
          },
          "execution_count": 12,
          "metadata": {},
          "output_type": "execute_result"
        }
      ],
      "source": [
        "type(name)"
      ]
    },
    {
      "cell_type": "code",
      "execution_count": null,
      "id": "66fcbac4",
      "metadata": {
        "id": "66fcbac4",
        "outputId": "752d3f26-2cdf-4f2a-8433-b7f597cf1d2b"
      },
      "outputs": [
        {
          "data": {
            "text/plain": [
              "False"
            ]
          },
          "execution_count": 14,
          "metadata": {},
          "output_type": "execute_result"
        }
      ],
      "source": [
        "5==5.1"
      ]
    },
    {
      "cell_type": "markdown",
      "id": "04e0b9a2",
      "metadata": {
        "id": "04e0b9a2"
      },
      "source": []
    }
  ],
  "metadata": {
    "kernelspec": {
      "display_name": "Python 3 (ipykernel)",
      "language": "python",
      "name": "python3"
    },
    "language_info": {
      "codemirror_mode": {
        "name": "ipython",
        "version": 3
      },
      "file_extension": ".py",
      "mimetype": "text/x-python",
      "name": "python",
      "nbconvert_exporter": "python",
      "pygments_lexer": "ipython3",
      "version": "3.9.7"
    },
    "colab": {
      "provenance": [],
      "include_colab_link": true
    }
  },
  "nbformat": 4,
  "nbformat_minor": 5
}